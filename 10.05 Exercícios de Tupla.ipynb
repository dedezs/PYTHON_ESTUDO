{
 "cells": [
  {
   "cell_type": "markdown",
   "metadata": {},
   "source": [
    "# Exercícios\n",
    "\n",
    "São exercícios bem parecidos com os que fizemos com listas. Mas na tupla, podemos não só trabalhar com índices, mas fazer o \"unpacking\" das tuplas, o que pode facilitar nossos códigos.\n",
    "\n",
    "## 1. Análise de Vendas\n",
    "\n",
    "Nesse exercício vamos fazer uma \"análise simples\" de atingimento de Meta.\n",
    "\n",
    "Temos uma lista com os vendedores e os valores de vendas e queremos identificar (printar) quais os vendedores que bateram a meta e qual foi o valor que eles venderam."
   ]
  },
  {
   "cell_type": "code",
   "execution_count": 15,
   "metadata": {},
   "outputs": [
    {
     "name": "stdout",
     "output_type": "stream",
     "text": [
      "Vendedor João bateu a meta, vendendo R$ 15000\n",
      "Vendedor Julia bateu a meta, vendendo R$ 27000\n",
      "Vendedor Ana bateu a meta, vendendo R$ 10300\n"
     ]
    }
   ],
   "source": [
    "meta = 10000\n",
    "vendas = [\n",
    "    ('João', 15000),\n",
    "    ('Julia', 27000),\n",
    "    ('Marcus', 9900),\n",
    "    ('Maria', 3750),\n",
    "    ('Ana', 10300),\n",
    "    ('Alon', 7870),\n",
    "]\n",
    "\n",
    "for vendedor, venda_vendedor in vendas:\n",
    "    if venda_vendedor >= meta:\n",
    "        print('Vendedor {} bateu a meta, vendendo R$ {}'.format(vendedor, venda_vendedor))\n",
    "\n"
   ]
  },
  {
   "cell_type": "markdown",
   "metadata": {},
   "source": [
    "## 2. Comparação com Ano Anterior\n",
    "\n",
    "Digamos que você está analisando as vendas de produtos de um ecommerce e quer identificar quais produtos tiveram no ano de 2020 mais vendas do que no ano de 2019, para reportar isso para a diretoria.\n",
    "\n",
    "Sua resposta pode ser um print de cada produto, qual foi a venda de 2019, a venda de 2020 e o % de crescimento de 2020 para 2019.\n",
    "\n",
    "Lembrando, para calcular o % de crescimento de um produto de um ano para o outro, podemos fazer: (vendas_produto2020/vendas_produto2019 - 1)\n",
    "\n",
    "A lógica da tupla é: (produto, vendas2019, vendas2020)"
   ]
  },
  {
   "cell_type": "code",
   "execution_count": 21,
   "metadata": {},
   "outputs": [
    {
     "name": "stdout",
     "output_type": "stream",
     "text": [
      "O produto iphone teve 71% a mais em 2020\n",
      "O produto tv teve 94% a mais em 2020\n",
      "O produto máquina de café teve 21% a mais em 2020\n",
      "O produto notebook dell teve 64% a mais em 2020\n",
      "O produto notebook hp teve 249% a mais em 2020\n",
      "O produto microsoft surface teve 52% a mais em 2020\n",
      "O produto webcam teve 24% a mais em 2020\n",
      "O produto caixa de som teve 48% a mais em 2020\n",
      "O produto microfone teve 96% a mais em 2020\n",
      "O produto câmera canon teve 68% a mais em 2020\n"
     ]
    }
   ],
   "source": [
    "vendas_produtos = [('iphone', 558147, 951642), \n",
    "                   ('galaxy', 712350, 244295), \n",
    "                   ('ipad', 573823, 26964), \n",
    "                   ('tv', 405252, 787604), \n",
    "                   ('máquina de café', 718654, 867660),\n",
    "                   ('kindle', 531580, 78830), \n",
    "                   ('geladeira', 973139, 710331), \n",
    "                   ('adega', 892292, 646016), \n",
    "                   ('notebook dell', 422760, 694913), \n",
    "                   ('notebook hp', 154753, 539704), \n",
    "                   ('notebook asus', 887061, 324831), \n",
    "                   ('microsoft surface', 438508, 667179), \n",
    "                   ('webcam', 237467, 295633), \n",
    "                   ('caixa de som', 489705, 725316), \n",
    "                   ('microfone', 328311, 644622), \n",
    "                   ('câmera canon', 591120, 994303)\n",
    "                  ]\n",
    "\n",
    "for produto, vendas_2019, vendas_2020 in vendas_produtos:\n",
    "    if vendas_2020 > vendas_2019:\n",
    "        percent = (vendas_2020/vendas_2019 - 1)\n",
    "        print('O produto {} teve {:.0%} a mais em 2020'.format(produto, percent))"
   ]
  }
 ],
 "metadata": {
  "kernelspec": {
   "display_name": "Python 3.10.2 64-bit",
   "language": "python",
   "name": "python3"
  },
  "language_info": {
   "codemirror_mode": {
    "name": "ipython",
    "version": 3
   },
   "file_extension": ".py",
   "mimetype": "text/x-python",
   "name": "python",
   "nbconvert_exporter": "python",
   "pygments_lexer": "ipython3",
   "version": "3.10.2"
  },
  "vscode": {
   "interpreter": {
    "hash": "83b617c66aa9ed92efeb8629453f4b5eb61ab11a86f5ad7ba589d02897e9d812"
   }
  }
 },
 "nbformat": 4,
 "nbformat_minor": 4
}
